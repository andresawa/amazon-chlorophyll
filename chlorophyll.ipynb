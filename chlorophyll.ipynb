{
 "cells": [
  {
   "cell_type": "markdown",
   "id": "384946b8-abcc-43c3-81fe-f65543b8460f",
   "metadata": {},
   "source": [
    "# Calculations\n",
    "***"
   ]
  },
  {
   "cell_type": "markdown",
   "id": "65fae387-0b3c-4326-9c01-ba1663160204",
   "metadata": {},
   "source": [
    "## Import Libraries "
   ]
  },
  {
   "cell_type": "code",
   "execution_count": null,
   "id": "3f36c6c1-2fd7-49b0-95d1-d23f56f98641",
   "metadata": {},
   "outputs": [],
   "source": [
    "import numpy as np\n",
    "import pandas as pd\n",
    "import xarray as xr\n",
    "import matplotlib.pyplot as plt\n",
    "\n",
    "pd.set_option(\"display.max_rows\", None)"
   ]
  },
  {
   "cell_type": "markdown",
   "id": "87132994-5d78-4bea-8b6c-e97408d6e5ce",
   "metadata": {},
   "source": [
    "## Data Input"
   ]
  },
  {
   "cell_type": "code",
   "execution_count": null,
   "id": "392a1d5c-cfc7-4921-a56d-37fa6bdaf2b6",
   "metadata": {},
   "outputs": [],
   "source": [
    "# Load the chlorophyll variable (chlor) from the data file\n",
    "data = xr.open_dataset(\"https://www.oceancolour.org/thredds/dodsC/CCI_ALL-v5.0-MONTHLY?lat[0:1:4319],lon[0:1:8639],crs[0:1:279],time[0:1:279],chlor_a\")\n",
    "chlo = data.chlor_a.sel(lat = slice(15, -5), lon = slice(-60, -30)).load()\n",
    "\n",
    "# Log-transform the chlorophyll (chlor) values\n",
    "chlo_log = chlo.copy()\n",
    "chlo_log.values = np.log10(chlo.values)"
   ]
  },
  {
   "cell_type": "markdown",
   "id": "8c08dbb5-1eb2-49ca-a43a-802ed0360050",
   "metadata": {},
   "source": [
    "## Calculate the annual and monthly chlorophyll means"
   ]
  },
  {
   "cell_type": "code",
   "execution_count": null,
   "id": "50411df2-23dc-4ed0-b15f-5c26c739b64d",
   "metadata": {
    "scrolled": true,
    "tags": []
   },
   "outputs": [],
   "source": [
    "# Calculate the monthly mean chlorophyll in the area\n",
    "mean_monthly = chlo_log.mean([\"lat\", \"lon\"])\n",
    "monthly = 10 ** mean_monthly.to_dataframe(name = \"Chlorophyll-a\")\n",
    "monthly"
   ]
  },
  {
   "cell_type": "code",
   "execution_count": null,
   "id": "a3808412-b6f6-46a6-9125-ada4aa3113fd",
   "metadata": {
    "scrolled": true,
    "tags": []
   },
   "outputs": [],
   "source": [
    "# Calculate the annual mean chlorophyll in the area\n",
    "mean_annual = mean_monthly.groupby(\"time.year\").mean()\n",
    "annual = 10 ** mean_annual.to_dataframe(name = \"Chlorophyll-a\")\n",
    "annual"
   ]
  },
  {
   "cell_type": "markdown",
   "id": "cfd09258-64a0-4255-926d-b8f5049a1d9e",
   "metadata": {},
   "source": [
    "## Calculate the monthly mean chlorophyll anomaly in the area"
   ]
  },
  {
   "cell_type": "code",
   "execution_count": null,
   "id": "ffa85fab-3f39-4477-9fee-c5c28c098ed5",
   "metadata": {},
   "outputs": [],
   "source": [
    "# Deseasonalizing the data\n",
    "monthly_climatology = 10 ** chlo_log.groupby(\"time.month\").mean(\"time\")\n",
    "anomaly = chlo.groupby('time.month') - monthly_climatology\n",
    "\n",
    "# Calculate the monthly anomaly\n",
    "mean_monthly_anomaly = anomaly.mean([\"lat\", \"lon\"])\n",
    "monthly_anomaly = mean_monthly_anomaly.to_series()"
   ]
  },
  {
   "cell_type": "markdown",
   "id": "7156d32b-39dc-4550-9a2e-5d7392c97919",
   "metadata": {},
   "source": [
    "## Calculate the annual rates of chlorophyll change in each pixel of the area"
   ]
  },
  {
   "cell_type": "code",
   "execution_count": null,
   "id": "1d2b2cc8-a725-4a1c-8ff8-64c42644b39a",
   "metadata": {},
   "outputs": [],
   "source": [
    "# Change the time coordinates to months and drop the extra time coordinate in anomaly\n",
    "anomaly = anomaly.assign_coords(time = (\"time\", np.arange(0, anomaly.shape[0])))\n",
    "anomaly = anomaly.reset_coords(drop = True)\n",
    "\n",
    "# Apply a linear regression where x = time and y = chlor anomaly for each pixel\n",
    "regression = anomaly.polyfit(\"time\", 1, skipna = True, full = True)\n",
    "\n",
    "# Calculate the annual rate of change in chloro for each pixel\n",
    "total_climatology = 10 ** chlo_log.mean(\"time\")\n",
    "pixel_rates = 100 * (regression.polyfit_coefficients.sel(degree = 1) * 12) / (regression.polyfit_coefficients.sel(degree = 0) + total_climatology)"
   ]
  },
  {
   "cell_type": "markdown",
   "id": "d2bdb6fa-2875-4a41-bd79-47b255b63630",
   "metadata": {},
   "source": [
    "## Calculate the annual chlorophyll change rate for the whole region"
   ]
  },
  {
   "cell_type": "code",
   "execution_count": null,
   "id": "179fd6f6-f25c-4845-a019-1d382475b4af",
   "metadata": {},
   "outputs": [],
   "source": [
    "# Apply a linear regression where x = time and y = chlor anomaly for the mensual anomaly values\n",
    "regression2 = np.polyfit(np.arange(0, anomaly.shape[0]), monthly_anomaly.values, 1)\n",
    "\n",
    "# Calculate the annual rate of change in chloro for the region\n",
    "mean_chlo = 10 ** chlo_log.mean([\"lat\", \"lon\", \"time\"])\n",
    "total_rate = 100 * (regression2[0] * 12) / (regression2[1] + mean_chlo)"
   ]
  },
  {
   "cell_type": "markdown",
   "id": "5c9e4cb0-a337-42c6-9ff6-a206534ed87a",
   "metadata": {},
   "source": [
    "# Figures\n",
    "***"
   ]
  },
  {
   "cell_type": "markdown",
   "id": "b99f9896-3b9b-45ae-a5ab-4c597f9b5ad2",
   "metadata": {},
   "source": [
    "## Chlorophyll concentrations in the area for a specific date"
   ]
  },
  {
   "cell_type": "code",
   "execution_count": null,
   "id": "290f5816-ccdc-40af-bafe-59b6d55c1801",
   "metadata": {
    "tags": []
   },
   "outputs": [],
   "source": [
    "date = \"2020-12-01\" # Date in YYYY-MM-DD, change it and display another date\n",
    "mini = 0 # Minimum value of chlorophyll displayed in the figure\n",
    "maxi = 10 # Maximum value of chlorophyll displayed in the figure\n",
    "\n",
    "chlo.sel(time = date).plot(vmin = mini, vmax = maxi, size=6)\n",
    "plt.tight_layout()\n",
    "plt.show()"
   ]
  },
  {
   "cell_type": "markdown",
   "id": "ac37afab-caef-4253-b2bd-9130203d64f3",
   "metadata": {},
   "source": [
    "## Climatological chlorophyll concentration for the 1997-2020 period"
   ]
  },
  {
   "cell_type": "code",
   "execution_count": null,
   "id": "1a673796-8151-406a-8369-7097af58ebb3",
   "metadata": {},
   "outputs": [],
   "source": [
    "total_climatology.plot(vmin = 0, vmax = 20, size=6)\n",
    "plt.title(\"Climatology chlorophyll concentration (1997-2020)\")\n",
    "plt.ylabel(\"Latitude (degrees)\")\n",
    "plt.xlabel(\"Longitude (degrees)\")\n",
    "plt.tight_layout()\n",
    "plt.show()"
   ]
  },
  {
   "cell_type": "markdown",
   "id": "e0b9fb4d-2889-4f8a-b9f9-b084c221124b",
   "metadata": {},
   "source": [
    "## Annual rates of chlorophyll change (in %) for each pixel of the region"
   ]
  },
  {
   "cell_type": "code",
   "execution_count": null,
   "id": "732bd0dd-3ea3-4488-b284-68cb318e9b6f",
   "metadata": {},
   "outputs": [],
   "source": [
    "pixel_rates.plot(vmin = -3, vmax = 3, size = 6, cmap = 'RdBu_r')\n",
    "\n",
    "plt.title(\"Annual rates of chlorophyll change\")\n",
    "plt.ylabel(\"Latitude (degrees)\")\n",
    "plt.xlabel(\"Longitude (degrees)\")\n",
    "plt.tight_layout()\n",
    "plt.show()"
   ]
  },
  {
   "cell_type": "markdown",
   "id": "ebd55787-3e03-4c86-912f-c496300be42b",
   "metadata": {},
   "source": [
    "## Chlorophyll time series and trend (1997 - 2020)"
   ]
  },
  {
   "cell_type": "code",
   "execution_count": null,
   "id": "3fef0d23-9912-40b4-a73d-7f7bfba56425",
   "metadata": {
    "tags": []
   },
   "outputs": [],
   "source": [
    "trend = (np.arange(0, anomaly.shape[0]) * regression2[0]) + regression2[1]\n",
    "\n",
    "plt.figure(dpi = 150)\n",
    "plt.plot(monthly.index, monthly.values, label = \"Monthly regional mean\")\n",
    "plt.plot(monthly_anomaly.index, monthly_anomaly.values, label = \"Observations - Seasonal Cycle\")\n",
    "plt.plot(monthly.index, trend, label = \"Trend\")\n",
    "plt.ylim([-0.05, 0.5])\n",
    "plt.title(\"Chlorophyll time series and trend (1997 - 2020)\")\n",
    "plt.ylabel(\"Chlorophyll-a (mg m⁻³)\")\n",
    "plt.xlabel(\"Years\")\n",
    "plt.legend()\n",
    "plt.tight_layout()\n",
    "plt.show()"
   ]
  }
 ],
 "metadata": {
  "kernelspec": {
   "display_name": "Python 3",
   "language": "python",
   "name": "python3"
  },
  "language_info": {
   "codemirror_mode": {
    "name": "ipython",
    "version": 3
   },
   "file_extension": ".py",
   "mimetype": "text/x-python",
   "name": "python",
   "nbconvert_exporter": "python",
   "pygments_lexer": "ipython3",
   "version": "3.9.5"
  }
 },
 "nbformat": 4,
 "nbformat_minor": 5
}
